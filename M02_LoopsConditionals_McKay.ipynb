{
 "cells": [
  {
   "cell_type": "code",
   "execution_count": 1,
   "id": "19a1a4a1",
   "metadata": {},
   "outputs": [
    {
     "name": "stdout",
     "output_type": "stream",
     "text": [
      "too high\n"
     ]
    }
   ],
   "source": [
    "# 4.1\n",
    "\n",
    "secret = 6\n",
    "guess = 8\n",
    "\n",
    "if guess < secret:\n",
    "    print(\"too low\")\n",
    "elif guess > secret:\n",
    "    print(\"too high\")\n",
    "else:\n",
    "    print(\"just right\")"
   ]
  },
  {
   "cell_type": "code",
   "execution_count": 2,
   "id": "bff39ee9",
   "metadata": {},
   "outputs": [
    {
     "name": "stdout",
     "output_type": "stream",
     "text": [
      "pea\n"
     ]
    }
   ],
   "source": [
    "# 4.2\n",
    "\n",
    "small = True\n",
    "green = True\n",
    "choices = [\"cherry\", \"pea\", \"watermelon\", \"pumpkin\"]\n",
    "\n",
    "if small and green:\n",
    "    print(choices[1])    \n",
    "elif small and not green:\n",
    "    print(choices[0])\n",
    "elif not small and green:\n",
    "    print(choices[2])\n",
    "elif not small and not green:\n",
    "    print(choices[3])"
   ]
  },
  {
   "cell_type": "code",
   "execution_count": 3,
   "id": "e990e4e3",
   "metadata": {},
   "outputs": [
    {
     "name": "stdout",
     "output_type": "stream",
     "text": [
      "3\n",
      "2\n",
      "1\n",
      "0\n"
     ]
    }
   ],
   "source": [
    "# 6.1\n",
    "\n",
    "lst = [3, 2, 1, 0]\n",
    "\n",
    "for i in lst:\n",
    "    print(i)"
   ]
  },
  {
   "cell_type": "code",
   "execution_count": 4,
   "id": "0fc4c214",
   "metadata": {},
   "outputs": [
    {
     "name": "stdout",
     "output_type": "stream",
     "text": [
      "too low\n",
      "too low\n",
      "too low\n",
      "too low\n",
      "too low\n",
      "too low\n"
     ]
    }
   ],
   "source": [
    "# 6.2\n",
    "\n",
    "guess_me = 7\n",
    "number = 1\n",
    "\n",
    "while guess_me != number:\n",
    "    if number < guess_me:\n",
    "        print(\"too low\")\n",
    "    elif number == guess_me:\n",
    "        print(\"found it!\")\n",
    "        break\n",
    "    elif number > guess_me:\n",
    "        print(\"oops\")\n",
    "        break\n",
    "    number += 1"
   ]
  },
  {
   "cell_type": "code",
   "execution_count": 5,
   "id": "5fd6a00e",
   "metadata": {},
   "outputs": [
    {
     "name": "stdout",
     "output_type": "stream",
     "text": [
      "too low\n",
      "too low\n",
      "too low\n",
      "too low\n",
      "too low\n",
      "found it!\n"
     ]
    }
   ],
   "source": [
    "# 6.3\n",
    "\n",
    "guess_me = 5\n",
    "number = range(10)\n",
    "\n",
    "for n in number:\n",
    "    if n < guess_me:\n",
    "        print(\"too low\")\n",
    "    elif n == guess_me:\n",
    "        print(\"found it!\")\n",
    "        break\n",
    "    elif n > guess_me:\n",
    "        print(\"oops\")\n",
    "        break"
   ]
  },
  {
   "cell_type": "code",
   "execution_count": null,
   "id": "4e2c2a3b",
   "metadata": {},
   "outputs": [],
   "source": []
  }
 ],
 "metadata": {
  "kernelspec": {
   "display_name": "Python 3 (ipykernel)",
   "language": "python",
   "name": "python3"
  },
  "language_info": {
   "codemirror_mode": {
    "name": "ipython",
    "version": 3
   },
   "file_extension": ".py",
   "mimetype": "text/x-python",
   "name": "python",
   "nbconvert_exporter": "python",
   "pygments_lexer": "ipython3",
   "version": "3.11.4"
  }
 },
 "nbformat": 4,
 "nbformat_minor": 5
}
